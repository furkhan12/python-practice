{
 "cells": [
  {
   "cell_type": "code",
   "execution_count": 1,
   "id": "8635a783-7a57-47ea-8979-3a7851afc9ad",
   "metadata": {},
   "outputs": [],
   "source": [
    "class SampleWord():\n",
    "    pass"
   ]
  },
  {
   "cell_type": "code",
   "execution_count": 5,
   "id": "7bb57d86-10c0-4c99-b99a-f44fdcdd8daf",
   "metadata": {},
   "outputs": [],
   "source": [
    "#instance of class\n",
    "my_sample=SampleWord()"
   ]
  },
  {
   "cell_type": "code",
   "execution_count": 4,
   "id": "60007c18-0654-439c-85e5-5ca411fffbc1",
   "metadata": {},
   "outputs": [
    {
     "data": {
      "text/plain": [
       "__main__.SampleWord"
      ]
     },
     "execution_count": 4,
     "metadata": {},
     "output_type": "execute_result"
    }
   ],
   "source": [
    "type(my_sample)"
   ]
  },
  {
   "cell_type": "code",
   "execution_count": 1,
   "id": "de61b09d-64b5-4f05-9c9f-397da62dff69",
   "metadata": {},
   "outputs": [],
   "source": [
    "class Dog():\n",
    "    def __init__(self,breed):\n",
    "        self.breed=breed"
   ]
  },
  {
   "cell_type": "code",
   "execution_count": 2,
   "id": "e73955e0-7a11-4ec7-9596-fe9b148f6501",
   "metadata": {},
   "outputs": [],
   "source": [
    "my_dog=Dog(breed='lab') "
   ]
  },
  {
   "cell_type": "code",
   "execution_count": 3,
   "id": "2398616b-c1c0-4288-9e81-d550f3c249c0",
   "metadata": {},
   "outputs": [
    {
     "data": {
      "text/plain": [
       "'lab'"
      ]
     },
     "execution_count": 3,
     "metadata": {},
     "output_type": "execute_result"
    }
   ],
   "source": [
    "my_dog.breed"
   ]
  },
  {
   "cell_type": "code",
   "execution_count": 1,
   "id": "fd72e33c-b46e-42a6-96b5-f1eea3ccd6c3",
   "metadata": {},
   "outputs": [],
   "source": [
    "class Family():\n",
    "    def __init__(self,brother):\n",
    "        self.brother=brother"
   ]
  },
  {
   "cell_type": "code",
   "execution_count": 2,
   "id": "91e1f58b-0323-44b9-afb1-e03c0ecbe383",
   "metadata": {},
   "outputs": [],
   "source": [
    "my_brother=Family(brother='khan')"
   ]
  },
  {
   "cell_type": "code",
   "execution_count": 3,
   "id": "9baafef1-0fcb-49b2-8aba-a20f975a13af",
   "metadata": {},
   "outputs": [
    {
     "data": {
      "text/plain": [
       "'khan'"
      ]
     },
     "execution_count": 3,
     "metadata": {},
     "output_type": "execute_result"
    }
   ],
   "source": [
    "my_brother.brother"
   ]
  },
  {
   "cell_type": "code",
   "execution_count": 1,
   "id": "b5076d96-d7ce-4ef4-a34e-2a00a0de1389",
   "metadata": {},
   "outputs": [],
   "source": [
    "class Dog():\n",
    "    def __init__(self,color):\n",
    "        self.color=color"
   ]
  },
  {
   "cell_type": "code",
   "execution_count": 2,
   "id": "d4fc083d-5ccc-4373-b772-377af6db606a",
   "metadata": {},
   "outputs": [],
   "source": [
    "colors=Dog(color='red')"
   ]
  },
  {
   "cell_type": "code",
   "execution_count": 3,
   "id": "fac7378d-2ee1-4846-8fc5-c4479585e5b0",
   "metadata": {},
   "outputs": [
    {
     "data": {
      "text/plain": [
       "'red'"
      ]
     },
     "execution_count": 3,
     "metadata": {},
     "output_type": "execute_result"
    }
   ],
   "source": [
    "colors.color"
   ]
  },
  {
   "cell_type": "code",
   "execution_count": 3,
   "id": "b9cf1ad5-eaea-4588-bd00-e6d51f1b4e9b",
   "metadata": {},
   "outputs": [],
   "source": [
    "class Animal():\n",
    "    def __init__(self,reptile):\n",
    "        self.reptile=reptile"
   ]
  },
  {
   "cell_type": "code",
   "execution_count": 7,
   "id": "58e989fe-3e5e-4a6a-81b6-2a19f7928d52",
   "metadata": {},
   "outputs": [],
   "source": [
    "myanimal=Animal()"
   ]
  },
  {
   "cell_type": "code",
   "execution_count": 8,
   "id": "6affb733-6dbe-46ed-96a0-20d7914de078",
   "metadata": {},
   "outputs": [
    {
     "data": {
      "text/plain": [
       "'croc'"
      ]
     },
     "execution_count": 8,
     "metadata": {},
     "output_type": "execute_result"
    }
   ],
   "source": [
    "myanimal.reptile"
   ]
  },
  {
   "cell_type": "code",
   "execution_count": 1,
   "id": "84ef368e-2ea7-4d22-aad7-4f50b0776d53",
   "metadata": {},
   "outputs": [],
   "source": [
    "class Animals():\n",
    "    def ___init__(self,water,air,both):\n",
    "        self.water=water\n",
    "        self.air=air\n",
    "        self.both=both\n",
    "        \n",
    "        "
   ]
  },
  {
   "cell_type": "code",
   "execution_count": 7,
   "id": "ac2c33ac-d4e2-4a76-a0c8-e0b5d160edbd",
   "metadata": {},
   "outputs": [
    {
     "ename": "TypeError",
     "evalue": "Animals() takes no arguments",
     "output_type": "error",
     "traceback": [
      "\u001b[1;31m---------------------------------------------------------------------------\u001b[0m",
      "\u001b[1;31mTypeError\u001b[0m                                 Traceback (most recent call last)",
      "Cell \u001b[1;32mIn[7], line 1\u001b[0m\n\u001b[1;32m----> 1\u001b[0m animal\u001b[38;5;241m=\u001b[39mAnimals(water\u001b[38;5;241m=\u001b[39m\u001b[38;5;124m'\u001b[39m\u001b[38;5;124mfish\u001b[39m\u001b[38;5;124m'\u001b[39m,air\u001b[38;5;241m=\u001b[39m\u001b[38;5;124m'\u001b[39m\u001b[38;5;124mpigeon\u001b[39m\u001b[38;5;124m'\u001b[39m,both\u001b[38;5;241m=\u001b[39m\u001b[38;5;124m'\u001b[39m\u001b[38;5;124mfrog\u001b[39m\u001b[38;5;124m'\u001b[39m)\n",
      "\u001b[1;31mTypeError\u001b[0m: Animals() takes no arguments"
     ]
    }
   ],
   "source": [
    "animal=Animals(water='fish',air='pigeon',both='frog')\n"
   ]
  },
  {
   "cell_type": "code",
   "execution_count": 1,
   "id": "f56cff7d-9687-496f-9ab7-22f4d7674264",
   "metadata": {},
   "outputs": [],
   "source": [
    "class Animals():\n",
    "    def ___init__(self,water,air,both):\n",
    "        self.water=water\n",
    "        self.air=air\n",
    "        self.both=both"
   ]
  },
  {
   "cell_type": "code",
   "execution_count": 2,
   "id": "4033db9b-b19f-4ffe-b2ed-1b6213bb217a",
   "metadata": {},
   "outputs": [
    {
     "ename": "TypeError",
     "evalue": "Animals() takes no arguments",
     "output_type": "error",
     "traceback": [
      "\u001b[1;31m---------------------------------------------------------------------------\u001b[0m",
      "\u001b[1;31mTypeError\u001b[0m                                 Traceback (most recent call last)",
      "Cell \u001b[1;32mIn[2], line 1\u001b[0m\n\u001b[1;32m----> 1\u001b[0m place\u001b[38;5;241m=\u001b[39mAnimals(water\u001b[38;5;241m=\u001b[39m\u001b[38;5;124m'\u001b[39m\u001b[38;5;124mfish\u001b[39m\u001b[38;5;124m'\u001b[39m,air\u001b[38;5;241m=\u001b[39m\u001b[38;5;124m'\u001b[39m\u001b[38;5;124mpigeon\u001b[39m\u001b[38;5;124m'\u001b[39m,both\u001b[38;5;241m=\u001b[39m\u001b[38;5;124m'\u001b[39m\u001b[38;5;124mfrog\u001b[39m\u001b[38;5;124m'\u001b[39m)\n",
      "\u001b[1;31mTypeError\u001b[0m: Animals() takes no arguments"
     ]
    }
   ],
   "source": [
    "place=Animals(water='fish',air='pigeon',both='frog')"
   ]
  },
  {
   "cell_type": "code",
   "execution_count": 1,
   "id": "767e5bcb-127f-471d-a468-db1daa36cb9b",
   "metadata": {},
   "outputs": [],
   "source": [
    "class Animals():\n",
    "    def ___init__(self,water,air,both):\n",
    "        self.water=water\n",
    "        self.air=air\n",
    "        self.both=both"
   ]
  },
  {
   "cell_type": "code",
   "execution_count": 2,
   "id": "ec57610c-5fd0-4531-9ced-2143151fd379",
   "metadata": {},
   "outputs": [
    {
     "ename": "TypeError",
     "evalue": "Animals() takes no arguments",
     "output_type": "error",
     "traceback": [
      "\u001b[1;31m---------------------------------------------------------------------------\u001b[0m",
      "\u001b[1;31mTypeError\u001b[0m                                 Traceback (most recent call last)",
      "Cell \u001b[1;32mIn[2], line 1\u001b[0m\n\u001b[1;32m----> 1\u001b[0m ammy\u001b[38;5;241m=\u001b[39mAnimals(water\u001b[38;5;241m=\u001b[39m\u001b[38;5;124m'\u001b[39m\u001b[38;5;124mfish\u001b[39m\u001b[38;5;124m'\u001b[39m,air\u001b[38;5;241m=\u001b[39m\u001b[38;5;124m'\u001b[39m\u001b[38;5;124mpiegion\u001b[39m\u001b[38;5;124m'\u001b[39m,both\u001b[38;5;241m=\u001b[39m\u001b[38;5;124m'\u001b[39m\u001b[38;5;124mfrog\u001b[39m\u001b[38;5;124m'\u001b[39m)\n",
      "\u001b[1;31mTypeError\u001b[0m: Animals() takes no arguments"
     ]
    }
   ],
   "source": [
    "ammy=Animals(water='fish',air='piegion',both='frog')"
   ]
  },
  {
   "cell_type": "code",
   "execution_count": 5,
   "id": "b6e244b3-06e8-4d15-a0f0-458f22139381",
   "metadata": {},
   "outputs": [],
   "source": [
    " class Sample():\n",
    "     def __init__(self,breed):\n",
    "         self.breed=breed\n",
    "     \n",
    "     "
   ]
  },
  {
   "cell_type": "code",
   "execution_count": 12,
   "id": "49567042-f791-4a53-ab3a-d34bb4ac896a",
   "metadata": {},
   "outputs": [],
   "source": [
    "mybreed=Sample(breed='lab')\n"
   ]
  },
  {
   "cell_type": "code",
   "execution_count": 13,
   "id": "8bba3fb5-b348-4fe2-9b1e-e824c9c06c46",
   "metadata": {},
   "outputs": [
    {
     "data": {
      "text/plain": [
       "'lab'"
      ]
     },
     "execution_count": 13,
     "metadata": {},
     "output_type": "execute_result"
    }
   ],
   "source": [
    "mybreed.breed"
   ]
  },
  {
   "cell_type": "code",
   "execution_count": 14,
   "id": "a4457b58-7078-4e7d-80b9-691db2de5ea9",
   "metadata": {},
   "outputs": [],
   "source": [
    "class Animals():\n",
    "    def ___init__(self,water,air,both):\n",
    "        self.water=water\n",
    "        self.air=air\n",
    "        self.both=both"
   ]
  },
  {
   "cell_type": "code",
   "execution_count": 17,
   "id": "64245aa1-3a4c-46ff-87bf-6e25f2ac03c2",
   "metadata": {},
   "outputs": [
    {
     "ename": "TypeError",
     "evalue": "Animals() takes no arguments",
     "output_type": "error",
     "traceback": [
      "\u001b[1;31m---------------------------------------------------------------------------\u001b[0m",
      "\u001b[1;31mTypeError\u001b[0m                                 Traceback (most recent call last)",
      "Cell \u001b[1;32mIn[17], line 1\u001b[0m\n\u001b[1;32m----> 1\u001b[0m animaltype\u001b[38;5;241m=\u001b[39mAnimals(water\u001b[38;5;241m=\u001b[39m\u001b[38;5;124m'\u001b[39m\u001b[38;5;124mfish\u001b[39m\u001b[38;5;124m'\u001b[39m,air\u001b[38;5;241m=\u001b[39m\u001b[38;5;124m'\u001b[39m\u001b[38;5;124mpige\u001b[39m\u001b[38;5;124m'\u001b[39m,both\u001b[38;5;241m=\u001b[39m\u001b[38;5;124m'\u001b[39m\u001b[38;5;124mfrog\u001b[39m\u001b[38;5;124m'\u001b[39m)\n",
      "\u001b[1;31mTypeError\u001b[0m: Animals() takes no arguments"
     ]
    }
   ],
   "source": [
    "animaltype=Animals(water='fish',air='pige',both='frog')"
   ]
  },
  {
   "cell_type": "code",
   "execution_count": 13,
   "id": "a8947683-d786-4efb-9f83-7cbedb4e29ed",
   "metadata": {},
   "outputs": [],
   "source": [
    "class Animal():\n",
    "    def __init__(self,name='frog'):\n",
    "        self.name=name\n",
    "        print('its an animal ')\n",
    "    def eat(self):\n",
    "        print('animal is eating')"
   ]
  },
  {
   "cell_type": "code",
   "execution_count": 10,
   "id": "fc9cf770-ea5c-4ff3-b907-f3f749ab2e63",
   "metadata": {},
   "outputs": [
    {
     "name": "stdout",
     "output_type": "stream",
     "text": [
      "its an animal \n"
     ]
    }
   ],
   "source": [
    "myanimal=myanimal=Animal()"
   ]
  },
  {
   "cell_type": "code",
   "execution_count": 6,
   "id": "14b1293c-3358-446c-8393-2bdde2ffeaec",
   "metadata": {},
   "outputs": [
    {
     "name": "stdout",
     "output_type": "stream",
     "text": [
      "animal is eating\n"
     ]
    }
   ],
   "source": []
  },
  {
   "cell_type": "code",
   "execution_count": 7,
   "id": "9ef82ab2-58f9-463c-85d9-c17c7d6e6c8a",
   "metadata": {},
   "outputs": [],
   "source": [
    "class Animal():\n",
    "    def __init__(self,name):\n",
    "        self.name=name\n",
    "        \n",
    "    def eat(self):\n",
    "        print('animal is eating')\n",
    "    def whoami(self):\n",
    "        print('kamina')"
   ]
  },
  {
   "cell_type": "code",
   "execution_count": 8,
   "id": "0cc2281f-2757-4a36-92ea-22edab4f3001",
   "metadata": {},
   "outputs": [],
   "source": [
    "myanimal=Animal(name='frog')"
   ]
  },
  {
   "cell_type": "code",
   "execution_count": 9,
   "id": "1941e0ac-a28d-48da-962d-2889b734b074",
   "metadata": {},
   "outputs": [
    {
     "data": {
      "text/plain": [
       "'frog'"
      ]
     },
     "execution_count": 9,
     "metadata": {},
     "output_type": "execute_result"
    }
   ],
   "source": [
    "myanimal.name\n"
   ]
  },
  {
   "cell_type": "code",
   "execution_count": 10,
   "id": "0e4b106c-4636-4861-8fe3-dd9e964d71b7",
   "metadata": {},
   "outputs": [
    {
     "name": "stdout",
     "output_type": "stream",
     "text": [
      "kamina\n"
     ]
    }
   ],
   "source": [
    "myanimal.whoami()"
   ]
  },
  {
   "cell_type": "code",
   "execution_count": null,
   "id": "2bf76a22-e3dc-42b4-9ec7-3c0f15105ad3",
   "metadata": {},
   "outputs": [],
   "source": []
  }
 ],
 "metadata": {
  "kernelspec": {
   "display_name": "Python 3 (ipykernel)",
   "language": "python",
   "name": "python3"
  },
  "language_info": {
   "codemirror_mode": {
    "name": "ipython",
    "version": 3
   },
   "file_extension": ".py",
   "mimetype": "text/x-python",
   "name": "python",
   "nbconvert_exporter": "python",
   "pygments_lexer": "ipython3",
   "version": "3.12.4"
  }
 },
 "nbformat": 4,
 "nbformat_minor": 5
}
