{
 "cells": [
  {
   "cell_type": "code",
   "execution_count": 1,
   "id": "c79fb73c-f42a-413e-84a4-8d66eae85df7",
   "metadata": {},
   "outputs": [],
   "source": [
    "from collections import Counter"
   ]
  },
  {
   "cell_type": "code",
   "execution_count": 3,
   "id": "718191cc-9257-48bb-8f70-972d969d6fe5",
   "metadata": {},
   "outputs": [],
   "source": [
    "mlist=['1','2','1','1','2','2','3','3']"
   ]
  },
  {
   "cell_type": "code",
   "execution_count": 4,
   "id": "94e0aed2-30a8-4d11-bbaf-26c8fe3b1858",
   "metadata": {},
   "outputs": [
    {
     "data": {
      "text/plain": [
       "Counter({'1': 3, '2': 3, '3': 2})"
      ]
     },
     "execution_count": 4,
     "metadata": {},
     "output_type": "execute_result"
    }
   ],
   "source": [
    "Counter(mlist)"
   ]
  },
  {
   "cell_type": "code",
   "execution_count": 5,
   "id": "1db499d2-04fa-4237-ac5e-83d463c8f250",
   "metadata": {},
   "outputs": [],
   "source": [
    "a='aaaaaaaaaahhhhhhbbbbbb'"
   ]
  },
  {
   "cell_type": "code",
   "execution_count": 6,
   "id": "381a97cf-7162-4a5c-88f3-51bfeaedf05a",
   "metadata": {},
   "outputs": [],
   "source": [
    "c=Counter(a)"
   ]
  },
  {
   "cell_type": "code",
   "execution_count": 7,
   "id": "6da13872-3e73-4523-a9d7-43a4eab62422",
   "metadata": {},
   "outputs": [
    {
     "data": {
      "text/plain": [
       "Counter({'a': 10, 'h': 6, 'b': 6})"
      ]
     },
     "execution_count": 7,
     "metadata": {},
     "output_type": "execute_result"
    }
   ],
   "source": [
    "c"
   ]
  },
  {
   "cell_type": "code",
   "execution_count": 8,
   "id": "19a3f07a-ae48-4db0-adce-69a4e223c13a",
   "metadata": {},
   "outputs": [
    {
     "data": {
      "text/plain": [
       "dict_items([('a', 10), ('h', 6), ('b', 6)])"
      ]
     },
     "execution_count": 8,
     "metadata": {},
     "output_type": "execute_result"
    }
   ],
   "source": [
    "c.items()"
   ]
  },
  {
   "cell_type": "code",
   "execution_count": 9,
   "id": "eb75e3f5-77d3-4dc7-a9d2-ab00e5f2429d",
   "metadata": {},
   "outputs": [
    {
     "data": {
      "text/plain": [
       "[('a', 10), ('h', 6), ('b', 6)]"
      ]
     },
     "execution_count": 9,
     "metadata": {},
     "output_type": "execute_result"
    }
   ],
   "source": [
    "c.most_common()"
   ]
  },
  {
   "cell_type": "code",
   "execution_count": null,
   "id": "361c2980-a6b8-411d-91dd-d71b4f0a8ac5",
   "metadata": {},
   "outputs": [],
   "source": []
  }
 ],
 "metadata": {
  "kernelspec": {
   "display_name": "Python 3 (ipykernel)",
   "language": "python",
   "name": "python3"
  },
  "language_info": {
   "codemirror_mode": {
    "name": "ipython",
    "version": 3
   },
   "file_extension": ".py",
   "mimetype": "text/x-python",
   "name": "python",
   "nbconvert_exporter": "python",
   "pygments_lexer": "ipython3",
   "version": "3.12.4"
  }
 },
 "nbformat": 4,
 "nbformat_minor": 5
}
