{
 "cells": [
  {
   "cell_type": "code",
   "execution_count": 8,
   "id": "2e822f26-4b3d-450d-9656-0394caf05486",
   "metadata": {},
   "outputs": [
    {
     "name": "stdout",
     "output_type": "stream",
     "text": [
      "wrong addition\n"
     ]
    }
   ],
   "source": [
    "try:\n",
    "    result='10'+10\n",
    "   \n",
    "except:\n",
    "    print ('wrong addition')\n",
    "else:\n",
    "    print('add went well')\n",
    "    print(result)"
   ]
  },
  {
   "cell_type": "code",
   "execution_count": null,
   "id": "6cf8fc22-a785-4eb1-a15b-b77dc3e7a969",
   "metadata": {},
   "outputs": [],
   "source": []
  }
 ],
 "metadata": {
  "kernelspec": {
   "display_name": "Python 3 (ipykernel)",
   "language": "python",
   "name": "python3"
  },
  "language_info": {
   "codemirror_mode": {
    "name": "ipython",
    "version": 3
   },
   "file_extension": ".py",
   "mimetype": "text/x-python",
   "name": "python",
   "nbconvert_exporter": "python",
   "pygments_lexer": "ipython3",
   "version": "3.12.4"
  }
 },
 "nbformat": 4,
 "nbformat_minor": 5
}
