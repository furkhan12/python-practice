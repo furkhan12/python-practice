{
 "cells": [
  {
   "cell_type": "code",
   "execution_count": 1,
   "id": "0ae6c463-1c49-425e-a725-69b1b20767fc",
   "metadata": {},
   "outputs": [],
   "source": [
    "#s1\n"
   ]
  },
  {
   "cell_type": "code",
   "execution_count": 2,
   "id": "3d81b44b-fa56-4cf0-a219-7131b6065ee5",
   "metadata": {},
   "outputs": [],
   "source": [
    "def display_board(board):\n",
    "    print(board[7]+'|'+board[8]+'|'+board[9])\n",
    "    print(board[4]+'|'+board[5]+'|'+board[6])\n",
    "    print(board[1]+'|'+board[2]+'|'+board[3])"
   ]
  },
  {
   "cell_type": "code",
   "execution_count": 4,
   "id": "e6e8d2c4-fe78-43a3-b34a-613d50a10595",
   "metadata": {},
   "outputs": [
    {
     "name": "stdout",
     "output_type": "stream",
     "text": [
      " | | \n",
      " | | \n",
      " | | \n"
     ]
    }
   ],
   "source": [
    "test_board=[' ']*10\n",
    "display_board(test_board)"
   ]
  },
  {
   "cell_type": "code",
   "execution_count": 13,
   "id": "70f14eae-c0a6-48b3-9f68-15c3f27dc638",
   "metadata": {},
   "outputs": [],
   "source": [
    "#input\n",
    "def player_input():\n",
    "    marker=''\n",
    "    while marker !='x' and marker!='o':\n",
    "        marker=input('p1, chose x or o: ')\n",
    "\n",
    "    p1=marker\n",
    "\n",
    "    if p1=='x':\n",
    "        p2='o'\n",
    "    else:\n",
    "        p2='x'\n",
    "    return(p1,p2)"
   ]
  },
  {
   "cell_type": "code",
   "execution_count": null,
   "id": "9366d387-ee59-4654-a679-c87ac1372af6",
   "metadata": {},
   "outputs": [
    {
     "name": "stdin",
     "output_type": "stream",
     "text": [
      "p1, chose x or o:  khan\n"
     ]
    }
   ],
   "source": [
    "player_input()\n"
   ]
  },
  {
   "cell_type": "code",
   "execution_count": null,
   "id": "5c363ec3-73ce-46d2-96e1-2af61043c18b",
   "metadata": {},
   "outputs": [],
   "source": []
  }
 ],
 "metadata": {
  "kernelspec": {
   "display_name": "Python 3 (ipykernel)",
   "language": "python",
   "name": "python3"
  },
  "language_info": {
   "codemirror_mode": {
    "name": "ipython",
    "version": 3
   },
   "file_extension": ".py",
   "mimetype": "text/x-python",
   "name": "python",
   "nbconvert_exporter": "python",
   "pygments_lexer": "ipython3",
   "version": "3.12.4"
  }
 },
 "nbformat": 4,
 "nbformat_minor": 5
}
