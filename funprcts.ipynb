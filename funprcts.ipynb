{
 "cells": [
  {
   "cell_type": "code",
   "execution_count": null,
   "id": "8f92514a-15f6-430c-9439-6c5854eabd99",
   "metadata": {},
   "outputs": [],
   "source": []
  },
  {
   "cell_type": "code",
   "execution_count": 1,
   "id": "d6ecdc78-dd7d-49e4-bdec-3baaf499255e",
   "metadata": {},
   "outputs": [],
   "source": [
    "#tuples unpacking\n",
    "\n",
    "stck_prices=[('apple',20),('man',50),('gogl',60)]"
   ]
  },
  {
   "cell_type": "code",
   "execution_count": 3,
   "id": "244ce80c-4d89-4b33-b2e8-6bb3ac05582f",
   "metadata": {},
   "outputs": [
    {
     "name": "stdout",
     "output_type": "stream",
     "text": [
      "('apple', 20)\n",
      "('man', 50)\n",
      "('gogl', 60)\n"
     ]
    }
   ],
   "source": [
    "for items in stck_prices:\n",
    "    print(items)"
   ]
  },
  {
   "cell_type": "code",
   "execution_count": 4,
   "id": "e6980675-ad51-4b5b-aa95-3365071a3b93",
   "metadata": {},
   "outputs": [
    {
     "name": "stdout",
     "output_type": "stream",
     "text": [
      "apple\n",
      "man\n",
      "gogl\n"
     ]
    }
   ],
   "source": [
    "for item,price in stck_prices:\n",
    "    print(item)"
   ]
  },
  {
   "cell_type": "code",
   "execution_count": 6,
   "id": "6da267ef-c4b9-4c27-90b6-d14639c7919f",
   "metadata": {},
   "outputs": [
    {
     "name": "stdout",
     "output_type": "stream",
     "text": [
      "22.0\n",
      "55.0\n",
      "66.0\n"
     ]
    }
   ],
   "source": [
    "for item,price in stck_prices:\n",
    "    print(price+(0.1*price))"
   ]
  },
  {
   "cell_type": "code",
   "execution_count": 7,
   "id": "c5c2ee1e-af28-47b3-98a5-01565664e918",
   "metadata": {},
   "outputs": [],
   "source": [
    "work_hrs=[('khan',200),('ali',700),('fur',800)]"
   ]
  },
  {
   "cell_type": "code",
   "execution_count": 11,
   "id": "6de7f6e7-4b3f-4319-91dc-a3ce930304cb",
   "metadata": {},
   "outputs": [],
   "source": [
    "def employee_check(work_hrs):\n",
    "\n",
    "    current_max=0\n",
    "    employee_of_month=''\n",
    "\n",
    "    for employee,hours in work_hrs:\n",
    "        if hours>current_max:\n",
    "            current_max=hours\n",
    "            employee_of_month=employee\n",
    "\n",
    "        else:\n",
    "            pass\n",
    "            \n",
    "        \n",
    "\n",
    "\n",
    "\n",
    "    return (employee_of_month,current_max)\n",
    "\n",
    "    "
   ]
  },
  {
   "cell_type": "code",
   "execution_count": 13,
   "id": "fdf8e556-a609-46a7-b917-372ac309e7ed",
   "metadata": {},
   "outputs": [
    {
     "data": {
      "text/plain": [
       "('fur', 800)"
      ]
     },
     "execution_count": 13,
     "metadata": {},
     "output_type": "execute_result"
    }
   ],
   "source": [
    "employee_check(work_hrs)"
   ]
  },
  {
   "cell_type": "code",
   "execution_count": 14,
   "id": "bf824506-d333-4dfb-b5c8-54cfa01f1321",
   "metadata": {},
   "outputs": [],
   "source": [
    "#interactions btwn functns\n"
   ]
  },
  {
   "cell_type": "code",
   "execution_count": 15,
   "id": "3c0ae6d7-7e98-4a13-9fea-630f90c4c8f2",
   "metadata": {},
   "outputs": [],
   "source": [
    "example=[1,2,3,4,5,6,7]\n"
   ]
  },
  {
   "cell_type": "code",
   "execution_count": 16,
   "id": "29c8c2ab-bfae-4e05-bf58-1fda4923f79b",
   "metadata": {},
   "outputs": [],
   "source": [
    "from random import shuffle"
   ]
  },
  {
   "cell_type": "code",
   "execution_count": 17,
   "id": "b190ec2e-1572-4fdd-bde3-ceaecb342ea4",
   "metadata": {},
   "outputs": [],
   "source": [
    "shuffle(example)"
   ]
  },
  {
   "cell_type": "code",
   "execution_count": 18,
   "id": "21bbd004-8b4b-4b31-8a61-7a0d5a7606b6",
   "metadata": {},
   "outputs": [
    {
     "data": {
      "text/plain": [
       "[4, 5, 1, 3, 2, 6, 7]"
      ]
     },
     "execution_count": 18,
     "metadata": {},
     "output_type": "execute_result"
    }
   ],
   "source": [
    "example"
   ]
  },
  {
   "cell_type": "code",
   "execution_count": 20,
   "id": "8707b86c-f5a2-4bb2-bba0-9a5572ee15c9",
   "metadata": {},
   "outputs": [],
   "source": [
    "def shuffle_list(mylist):\n",
    "    shuffle(mylist)\n",
    "    return mylist\n",
    "    "
   ]
  },
  {
   "cell_type": "raw",
   "id": "f4e615d7-7c0a-46ca-9ab9-17356b604a49",
   "metadata": {},
   "source": [
    "result=shuffle_list(example)"
   ]
  },
  {
   "cell_type": "code",
   "execution_count": 22,
   "id": "71f4f5f6-f0fc-4747-b976-a401f8f21a2f",
   "metadata": {},
   "outputs": [],
   "source": [
    "result=shuffle_list(example)"
   ]
  },
  {
   "cell_type": "code",
   "execution_count": 23,
   "id": "094fd48e-c33e-48e9-9879-21a6e022cc9b",
   "metadata": {},
   "outputs": [
    {
     "data": {
      "text/plain": [
       "[2, 6, 4, 1, 5, 7, 3]"
      ]
     },
     "execution_count": 23,
     "metadata": {},
     "output_type": "execute_result"
    }
   ],
   "source": [
    "result"
   ]
  },
  {
   "cell_type": "code",
   "execution_count": null,
   "id": "67f560d0-1cb4-4061-9dbb-fe90b0828de2",
   "metadata": {},
   "outputs": [],
   "source": []
  }
 ],
 "metadata": {
  "kernelspec": {
   "display_name": "Python 3 (ipykernel)",
   "language": "python",
   "name": "python3"
  },
  "language_info": {
   "codemirror_mode": {
    "name": "ipython",
    "version": 3
   },
   "file_extension": ".py",
   "mimetype": "text/x-python",
   "name": "python",
   "nbconvert_exporter": "python",
   "pygments_lexer": "ipython3",
   "version": "3.12.4"
  }
 },
 "nbformat": 4,
 "nbformat_minor": 5
}
