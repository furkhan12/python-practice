{
 "cells": [
  {
   "cell_type": "code",
   "execution_count": 9,
   "id": "970fca06-85c6-4df0-920e-1fd1c60acdb7",
   "metadata": {},
   "outputs": [],
   "source": [
    "#displayin user input\n",
    "def display(row1,row2,row3):\n",
    "    print(row1)\n",
    "    print(row2)\n",
    "    print(row3)"
   ]
  },
  {
   "cell_type": "code",
   "execution_count": 4,
   "id": "3bcdf401-8ccf-4cc9-bddc-d1ea9dcffdb9",
   "metadata": {},
   "outputs": [],
   "source": [
    "row1=[\" \",\" \",\" \"]\n",
    "row2=[\" \",\" \",\" \"]\n",
    "row3=[\" \",\" \",\" \"]"
   ]
  },
  {
   "cell_type": "code",
   "execution_count": 5,
   "id": "61730123-a813-454a-9114-cde420b319dc",
   "metadata": {},
   "outputs": [
    {
     "name": "stdout",
     "output_type": "stream",
     "text": [
      "[' ', ' ', ' ']\n",
      "[' ', ' ', ' ']\n",
      "[' ', ' ', ' ']\n"
     ]
    }
   ],
   "source": [
    "display(row1,row2,row3)"
   ]
  },
  {
   "cell_type": "code",
   "execution_count": 6,
   "id": "47fc5230-babb-498b-b723-d1405b3a084a",
   "metadata": {},
   "outputs": [],
   "source": [
    "row2[0]='x'"
   ]
  },
  {
   "cell_type": "code",
   "execution_count": 7,
   "id": "1accdf9d-09da-4a6b-81b1-483b79702a61",
   "metadata": {},
   "outputs": [
    {
     "name": "stdout",
     "output_type": "stream",
     "text": [
      "[' ', ' ', ' ']\n",
      "['x', ' ', ' ']\n",
      "[' ', ' ', ' ']\n"
     ]
    }
   ],
   "source": [
    "display(row1,row2,row3)"
   ]
  },
  {
   "cell_type": "code",
   "execution_count": 12,
   "id": "d94fe8b7-213b-40e4-bc15-e9e0faeaa7f4",
   "metadata": {},
   "outputs": [
    {
     "name": "stdin",
     "output_type": "stream",
     "text": [
      "enter the input 2\n"
     ]
    }
   ],
   "source": [
    "#accepting user input\n",
    "result=input(\"enter the input\")"
   ]
  },
  {
   "cell_type": "code",
   "execution_count": 2,
   "id": "8461e90e-22e0-491a-b526-e3b07660b122",
   "metadata": {},
   "outputs": [],
   "source": [
    "#display function\n",
    "\n",
    "game_list=[1,2,3]"
   ]
  },
  {
   "cell_type": "code",
   "execution_count": 4,
   "id": "076b4fe9-ba8d-4fd6-81a1-23f1883f8e37",
   "metadata": {},
   "outputs": [],
   "source": [
    "def display_game(game_list):\n",
    "    print(\"current list:\")\n",
    "    print(game_list)\n"
   ]
  },
  {
   "cell_type": "code",
   "execution_count": 6,
   "id": "a1fa52b0-6fae-4250-a2cf-78360135b3c7",
   "metadata": {},
   "outputs": [
    {
     "name": "stdout",
     "output_type": "stream",
     "text": [
      "current list:\n",
      "[1, 2, 3]\n"
     ]
    }
   ],
   "source": [
    "display_game(game_list)"
   ]
  },
  {
   "cell_type": "code",
   "execution_count": 7,
   "id": "c1ed5835-2d27-44c0-9b0e-eb85aa461a0d",
   "metadata": {},
   "outputs": [],
   "source": [
    "def position_choice():\n",
    "    choice='wrong'\n",
    "\n",
    "    while choice not in ['0','1','2']:\n",
    "        choice=input('pick a position(0,1,2):')\n",
    "\n",
    "        if choice not in ['0','1','2']:\n",
    "            print('invalid choice:')\n",
    "    return int(choice)"
   ]
  },
  {
   "cell_type": "code",
   "execution_count": null,
   "id": "3dec75cb-c23c-4ab4-b57f-f80d24ed626b",
   "metadata": {},
   "outputs": [
    {
     "name": "stdin",
     "output_type": "stream",
     "text": [
      "pick a position(0,1,2): 4\n"
     ]
    },
    {
     "name": "stdout",
     "output_type": "stream",
     "text": [
      "invalid choice:\n"
     ]
    },
    {
     "name": "stdin",
     "output_type": "stream",
     "text": [
      "pick a position(0,1,2): two\n"
     ]
    },
    {
     "name": "stdout",
     "output_type": "stream",
     "text": [
      "invalid choice:\n"
     ]
    }
   ],
   "source": [
    "position_choice()"
   ]
  },
  {
   "cell_type": "code",
   "execution_count": 9,
   "id": "8d619471-6a35-4cda-b18d-c6e41a090cb3",
   "metadata": {},
   "outputs": [
    {
     "data": {
      "text/plain": [
       "4"
      ]
     },
     "execution_count": 9,
     "metadata": {},
     "output_type": "execute_result"
    }
   ],
   "source": [
    "4\n"
   ]
  },
  {
   "cell_type": "code",
   "execution_count": null,
   "id": "1accdf3c-484a-4b4c-ae52-b8502ec7a408",
   "metadata": {},
   "outputs": [],
   "source": [
    "def replacement_choice"
   ]
  }
 ],
 "metadata": {
  "kernelspec": {
   "display_name": "Python 3 (ipykernel)",
   "language": "python",
   "name": "python3"
  },
  "language_info": {
   "codemirror_mode": {
    "name": "ipython",
    "version": 3
   },
   "file_extension": ".py",
   "mimetype": "text/x-python",
   "name": "python",
   "nbconvert_exporter": "python",
   "pygments_lexer": "ipython3",
   "version": "3.12.4"
  }
 },
 "nbformat": 4,
 "nbformat_minor": 5
}
