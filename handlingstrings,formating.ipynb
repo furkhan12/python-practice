{
 "cells": [
  {
   "cell_type": "code",
   "execution_count": 1,
   "id": "3feff730-1b22-410b-9d7f-d7b2a3fc2d63",
   "metadata": {},
   "outputs": [
    {
     "data": {
      "text/plain": [
       "'hello'"
      ]
     },
     "execution_count": 1,
     "metadata": {},
     "output_type": "execute_result"
    }
   ],
   "source": [
    "#creating a string\n",
    "\"hello\""
   ]
  },
  {
   "cell_type": "code",
   "execution_count": 2,
   "id": "4e383861-85e5-4fc7-95f8-73335e7389ff",
   "metadata": {},
   "outputs": [
    {
     "name": "stdout",
     "output_type": "stream",
     "text": [
      "who are you\n"
     ]
    }
   ],
   "source": [
    "str1=\"who are you\"\n",
    "print(str1)"
   ]
  },
  {
   "cell_type": "code",
   "execution_count": 3,
   "id": "8b7e281b-d57f-481b-be8b-ecad3c69ae65",
   "metadata": {},
   "outputs": [
    {
     "data": {
      "text/plain": [
       "11"
      ]
     },
     "execution_count": 3,
     "metadata": {},
     "output_type": "execute_result"
    }
   ],
   "source": [
    "#length of a string\n",
    "len(str1)"
   ]
  },
  {
   "cell_type": "code",
   "execution_count": 4,
   "id": "dbba63cd-cd86-4c18-872f-c12543db6a79",
   "metadata": {},
   "outputs": [
    {
     "data": {
      "text/plain": [
       "4"
      ]
     },
     "execution_count": 4,
     "metadata": {},
     "output_type": "execute_result"
    }
   ],
   "source": [
    "#length of a string2\n",
    "len(\"hell\")"
   ]
  },
  {
   "cell_type": "code",
   "execution_count": 5,
   "id": "2410a438-d83a-440b-8730-23f5e942a4c8",
   "metadata": {},
   "outputs": [
    {
     "data": {
      "text/plain": [
       "'a'"
      ]
     },
     "execution_count": 5,
     "metadata": {},
     "output_type": "execute_result"
    }
   ],
   "source": [
    "#indexing\n",
    "s1=\"farhan\"\n",
    "s1[1]\n"
   ]
  },
  {
   "cell_type": "code",
   "execution_count": 6,
   "id": "d31176c0-e50d-4fc0-918c-6b794086a08c",
   "metadata": {},
   "outputs": [
    {
     "data": {
      "text/plain": [
       "'farha'"
      ]
     },
     "execution_count": 6,
     "metadata": {},
     "output_type": "execute_result"
    }
   ],
   "source": [
    "s1[:5]"
   ]
  },
  {
   "cell_type": "code",
   "execution_count": 7,
   "id": "4df86f5f-3f34-4649-97c3-be2961e522d0",
   "metadata": {},
   "outputs": [
    {
     "data": {
      "text/plain": [
       "'nahraf'"
      ]
     },
     "execution_count": 7,
     "metadata": {},
     "output_type": "execute_result"
    }
   ],
   "source": [
    "#reversing a string\n",
    "\n",
    "s1[::-1]"
   ]
  },
  {
   "cell_type": "code",
   "execution_count": 8,
   "id": "35d2deb2-e3e6-4915-8c40-8497306007e3",
   "metadata": {},
   "outputs": [
    {
     "data": {
      "text/plain": [
       "'n'"
      ]
     },
     "execution_count": 8,
     "metadata": {},
     "output_type": "execute_result"
    }
   ],
   "source": [
    "s1[-1]"
   ]
  },
  {
   "cell_type": "code",
   "execution_count": 10,
   "id": "02d0871c-ceab-4b3c-9c97-c4b78cd95e07",
   "metadata": {},
   "outputs": [
    {
     "data": {
      "text/plain": [
       "'farhan syed'"
      ]
     },
     "execution_count": 10,
     "metadata": {},
     "output_type": "execute_result"
    }
   ],
   "source": [
    "#concatenation\n",
    "s1+\" syed\""
   ]
  },
  {
   "cell_type": "code",
   "execution_count": 11,
   "id": "d8d660b0-2251-44f6-8ccb-3b934e91c3a3",
   "metadata": {},
   "outputs": [
    {
     "name": "stdout",
     "output_type": "stream",
     "text": [
      "furkhan\n"
     ]
    }
   ],
   "source": [
    "#concatenation2\n",
    "s2=\"khan\"\n",
    "s3=\"fur\"\n",
    "print(s3+s2)"
   ]
  },
  {
   "cell_type": "code",
   "execution_count": null,
   "id": "9e7d86db-cda8-4df5-8b8a-0a5645b26ae0",
   "metadata": {},
   "outputs": [],
   "source": []
  },
  {
   "cell_type": "code",
   "execution_count": 12,
   "id": "dae391f4-348d-40d5-a90b-abb3d556ab64",
   "metadata": {},
   "outputs": [
    {
     "data": {
      "text/plain": [
       "'KHAN'"
      ]
     },
     "execution_count": 12,
     "metadata": {},
     "output_type": "execute_result"
    }
   ],
   "source": [
    "s2.upper()"
   ]
  },
  {
   "cell_type": "code",
   "execution_count": 13,
   "id": "2c9d958b-9841-4f0a-87d8-6012e4ef69fc",
   "metadata": {},
   "outputs": [
    {
     "data": {
      "text/plain": [
       "['who', 'are', 'you']"
      ]
     },
     "execution_count": 13,
     "metadata": {},
     "output_type": "execute_result"
    }
   ],
   "source": [
    "str1.split()"
   ]
  },
  {
   "cell_type": "code",
   "execution_count": 15,
   "id": "29ddce94-0b5d-46ad-8bf0-e1bc2df5699d",
   "metadata": {},
   "outputs": [
    {
     "data": {
      "text/plain": [
       "['wh', ' are y', 'u']"
      ]
     },
     "execution_count": 15,
     "metadata": {},
     "output_type": "execute_result"
    }
   ],
   "source": [
    "str1.split('o')"
   ]
  },
  {
   "cell_type": "code",
   "execution_count": 16,
   "id": "7310fe5b-87f6-4aac-800c-7db36eec3f40",
   "metadata": {},
   "outputs": [
    {
     "data": {
      "text/plain": [
       "'myself khan'"
      ]
     },
     "execution_count": 16,
     "metadata": {},
     "output_type": "execute_result"
    }
   ],
   "source": [
    "#print formatting\n",
    "\n",
    "\"myself {}\".format('khan')"
   ]
  },
  {
   "cell_type": "code",
   "execution_count": null,
   "id": "e068d0ec-2cd1-40a3-ba36-6ecbe1168db9",
   "metadata": {},
   "outputs": [],
   "source": []
  }
 ],
 "metadata": {
  "kernelspec": {
   "display_name": "Python 3 (ipykernel)",
   "language": "python",
   "name": "python3"
  },
  "language_info": {
   "codemirror_mode": {
    "name": "ipython",
    "version": 3
   },
   "file_extension": ".py",
   "mimetype": "text/x-python",
   "name": "python",
   "nbconvert_exporter": "python",
   "pygments_lexer": "ipython3",
   "version": "3.12.4"
  }
 },
 "nbformat": 4,
 "nbformat_minor": 5
}
